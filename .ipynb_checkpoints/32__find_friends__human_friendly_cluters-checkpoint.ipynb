{
 "cells": [
  {
   "cell_type": "markdown",
   "metadata": {},
   "source": [
    "# Tworzymy nazwane klastry\n",
    "\n",
    "W lekcji tej użyjemy LLM-ów do pomocy przy znalezieniu odpowiednich nazw i opisów dla klastrów."
   ]
  },
  {
   "cell_type": "code",
   "execution_count": 1,
   "metadata": {},
   "outputs": [],
   "source": [
    "import json\n",
    "import pandas as pd\n",
    "from openai import OpenAI\n",
    "from dotenv import dotenv_values\n",
    "from pycaret.clustering import predict_model, load_model"
   ]
  },
  {
   "cell_type": "code",
   "execution_count": 2,
   "metadata": {},
   "outputs": [],
   "source": [
    "env = dotenv_values(\".env\")\n",
    "\n",
    "openai_client = OpenAI(api_key=env[\"OPENAI_API_KEY\"])"
   ]
  },
  {
   "cell_type": "markdown",
   "metadata": {},
   "source": [
    "ładujemy nasze dane"
   ]
  },
  {
   "cell_type": "code",
   "execution_count": 3,
   "metadata": {},
   "outputs": [
    {
     "data": {
      "text/html": [
       "<div>\n",
       "<style scoped>\n",
       "    .dataframe tbody tr th:only-of-type {\n",
       "        vertical-align: middle;\n",
       "    }\n",
       "\n",
       "    .dataframe tbody tr th {\n",
       "        vertical-align: top;\n",
       "    }\n",
       "\n",
       "    .dataframe thead th {\n",
       "        text-align: right;\n",
       "    }\n",
       "</style>\n",
       "<table border=\"1\" class=\"dataframe\">\n",
       "  <thead>\n",
       "    <tr style=\"text-align: right;\">\n",
       "      <th></th>\n",
       "      <th>age</th>\n",
       "      <th>edu_level</th>\n",
       "      <th>fav_animals</th>\n",
       "      <th>fav_place</th>\n",
       "      <th>gender</th>\n",
       "    </tr>\n",
       "  </thead>\n",
       "  <tbody>\n",
       "    <tr>\n",
       "      <th>0</th>\n",
       "      <td>&lt;18</td>\n",
       "      <td>Podstawowe</td>\n",
       "      <td>Brak ulubionych</td>\n",
       "      <td>NaN</td>\n",
       "      <td>Kobieta</td>\n",
       "    </tr>\n",
       "    <tr>\n",
       "      <th>1</th>\n",
       "      <td>25-34</td>\n",
       "      <td>Średnie</td>\n",
       "      <td>Psy</td>\n",
       "      <td>Nad wodą</td>\n",
       "      <td>Mężczyzna</td>\n",
       "    </tr>\n",
       "    <tr>\n",
       "      <th>2</th>\n",
       "      <td>45-54</td>\n",
       "      <td>Wyższe</td>\n",
       "      <td>Psy</td>\n",
       "      <td>W lesie</td>\n",
       "      <td>Mężczyzna</td>\n",
       "    </tr>\n",
       "    <tr>\n",
       "      <th>3</th>\n",
       "      <td>35-44</td>\n",
       "      <td>Średnie</td>\n",
       "      <td>Koty</td>\n",
       "      <td>W górach</td>\n",
       "      <td>Mężczyzna</td>\n",
       "    </tr>\n",
       "    <tr>\n",
       "      <th>4</th>\n",
       "      <td>35-44</td>\n",
       "      <td>Wyższe</td>\n",
       "      <td>Psy</td>\n",
       "      <td>Nad wodą</td>\n",
       "      <td>Mężczyzna</td>\n",
       "    </tr>\n",
       "  </tbody>\n",
       "</table>\n",
       "</div>"
      ],
      "text/plain": [
       "     age   edu_level      fav_animals fav_place     gender\n",
       "0    <18  Podstawowe  Brak ulubionych       NaN    Kobieta\n",
       "1  25-34     Średnie              Psy  Nad wodą  Mężczyzna\n",
       "2  45-54      Wyższe              Psy   W lesie  Mężczyzna\n",
       "3  35-44     Średnie             Koty  W górach  Mężczyzna\n",
       "4  35-44      Wyższe              Psy  Nad wodą  Mężczyzna"
      ]
     },
     "execution_count": 3,
     "metadata": {},
     "output_type": "execute_result"
    }
   ],
   "source": [
    "df = pd.read_csv('welcome_survey_simple_v1.csv', sep=';')\n",
    "df.head()"
   ]
  },
  {
   "cell_type": "markdown",
   "metadata": {},
   "source": [
    "ładujemy model wytrenowany w poprzedniej lekcji"
   ]
  },
  {
   "cell_type": "code",
   "execution_count": 4,
   "metadata": {},
   "outputs": [
    {
     "name": "stdout",
     "output_type": "stream",
     "text": [
      "Transformation Pipeline and Model Successfully Loaded\n"
     ]
    }
   ],
   "source": [
    "kmeans_pipeline = load_model('welcome_survey_clustering_pipeline_v1')"
   ]
  },
  {
   "cell_type": "markdown",
   "metadata": {},
   "source": [
    "aplikujemy model do danych"
   ]
  },
  {
   "cell_type": "code",
   "execution_count": 5,
   "metadata": {},
   "outputs": [
    {
     "data": {
      "text/plain": [
       "Cluster\n",
       "Cluster 1    30\n",
       "Cluster 2    19\n",
       "Cluster 3    17\n",
       "Cluster 5    17\n",
       "Cluster 0    16\n",
       "Cluster 4    16\n",
       "Cluster 7    14\n",
       "Cluster 6    11\n",
       "Name: count, dtype: int64"
      ]
     },
     "execution_count": 5,
     "metadata": {},
     "output_type": "execute_result"
    }
   ],
   "source": [
    "df_with_clusters = predict_model(model=kmeans_pipeline, data=df)\n",
    "df_with_clusters[\"Cluster\"].value_counts()"
   ]
  },
  {
   "cell_type": "markdown",
   "metadata": {},
   "source": [
    "stworzymy teraz prompt, który prześlemy do LLM-a w celu znalezienia odpowiednich nazw i opisów dla klastrów"
   ]
  },
  {
   "cell_type": "code",
   "execution_count": 7,
   "metadata": {},
   "outputs": [],
   "source": [
    "cluster_descriptions = {}\n",
    "for cluster_id in df_with_clusters['Cluster'].unique():\n",
    "    cluster_df = df_with_clusters[df_with_clusters['Cluster'] == cluster_id]\n",
    "    summary = \"\"\n",
    "    for column in df_with_clusters:\n",
    "        if column == 'Cluster':\n",
    "            continue\n",
    "\n",
    "        value_counts = cluster_df[column].value_counts()\n",
    "        value_counts_str = ', '.join([f\"{idx}: {cnt}\" for idx, cnt in value_counts.items()])\n",
    "        summary += f\"{column} - {value_counts_str}\\n\"\n",
    "\n",
    "    cluster_descriptions[cluster_id] = summary"
   ]
  },
  {
   "cell_type": "code",
   "execution_count": 9,
   "metadata": {},
   "outputs": [
    {
     "name": "stdout",
     "output_type": "stream",
     "text": [
      "age - 45-54: 14, 25-34: 2, unknown: 1, 18-24: 0, 35-44: 0, 55-64: 0, <18: 0, >=65: 0\n",
      "edu_level - Wyższe: 15, Średnie: 2, Podstawowe: 0\n",
      "fav_animals - Psy: 15, Koty i Psy: 2, Brak ulubionych: 0, Inne: 0, Koty: 0\n",
      "fav_place - Nad wodą: 12, Inne: 2, W górach: 0, W lesie: 0\n",
      "gender - Kobieta: 9, Mężczyzna: 8\n",
      "\n"
     ]
    }
   ],
   "source": [
    "print(cluster_descriptions[\"Cluster 5\"])"
   ]
  },
  {
   "cell_type": "code",
   "execution_count": 10,
   "metadata": {},
   "outputs": [
    {
     "name": "stdout",
     "output_type": "stream",
     "text": [
      "Użyliśmy algorytmu klastrowania.\n",
      "\n",
      "Klaster Cluster 7:\n",
      "age - 35-44: 9, 25-34: 1, 45-54: 1, <18: 1, >=65: 1, unknown: 1, 18-24: 0, 55-64: 0\n",
      "edu_level - Wyższe: 11, Średnie: 2, Podstawowe: 1\n",
      "fav_animals - Brak ulubionych: 10, Koty: 4, Inne: 0, Koty i Psy: 0, Psy: 0\n",
      "fav_place - Nad wodą: 5, W lesie: 2, Inne: 0, W górach: 0\n",
      "gender - Mężczyzna: 11, Kobieta: 2\n",
      "\n",
      "\n",
      "Klaster Cluster 2:\n",
      "age - 25-34: 7, 18-24: 5, 45-54: 4, 35-44: 3, 55-64: 0, <18: 0, >=65: 0, unknown: 0\n",
      "edu_level - Średnie: 19, Podstawowe: 0, Wyższe: 0\n",
      "fav_animals - Psy: 9, Inne: 5, Koty: 4, Brak ulubionych: 1, Koty i Psy: 0\n",
      "fav_place - W górach: 13, Nad wodą: 3, W lesie: 2, Inne: 1\n",
      "gender - Mężczyzna: 19, Kobieta: 0\n",
      "\n",
      "\n",
      "Klaster Cluster 0:\n",
      "age - 45-54: 7, 35-44: 5, 25-34: 3, 55-64: 1, 18-24: 0, <18: 0, >=65: 0, unknown: 0\n",
      "edu_level - Wyższe: 15, Średnie: 1, Podstawowe: 0\n",
      "fav_animals - Psy: 16, Brak ulubionych: 0, Inne: 0, Koty: 0, Koty i Psy: 0\n",
      "fav_place - W lesie: 16, Inne: 0, Nad wodą: 0, W górach: 0\n",
      "gender - Mężczyzna: 11, Kobieta: 5\n",
      "\n",
      "\n",
      "Klaster Cluster 1:\n",
      "age - 35-44: 21, 55-64: 7, 25-34: 1, >=65: 1, 18-24: 0, 45-54: 0, <18: 0, unknown: 0\n",
      "edu_level - Wyższe: 28, Średnie: 2, Podstawowe: 0\n",
      "fav_animals - Psy: 25, Inne: 4, Koty i Psy: 1, Brak ulubionych: 0, Koty: 0\n",
      "fav_place - Nad wodą: 24, Inne: 1, W górach: 0, W lesie: 0\n",
      "gender - Mężczyzna: 23, Kobieta: 7\n",
      "\n",
      "\n",
      "Klaster Cluster 4:\n",
      "age - 25-34: 7, 45-54: 4, >=65: 3, 18-24: 1, 55-64: 1, 35-44: 0, <18: 0, unknown: 0\n",
      "edu_level - Wyższe: 16, Podstawowe: 0, Średnie: 0\n",
      "fav_animals - Brak ulubionych: 6, Psy: 6, Koty: 3, Inne: 1, Koty i Psy: 0\n",
      "fav_place - W górach: 15, W lesie: 1, Inne: 0, Nad wodą: 0\n",
      "gender - Mężczyzna: 11, Kobieta: 5\n",
      "\n",
      "\n",
      "Klaster Cluster 3:\n",
      "age - 35-44: 17, 18-24: 0, 25-34: 0, 45-54: 0, 55-64: 0, <18: 0, >=65: 0, unknown: 0\n",
      "edu_level - Wyższe: 17, Podstawowe: 0, Średnie: 0\n",
      "fav_animals - Koty: 7, Psy: 4, Inne: 3, Brak ulubionych: 2, Koty i Psy: 1\n",
      "fav_place - W górach: 16, Inne: 1, Nad wodą: 0, W lesie: 0\n",
      "gender - Mężczyzna: 13, Kobieta: 3\n",
      "\n",
      "\n",
      "Klaster Cluster 6:\n",
      "age - 45-54: 10, 25-34: 1, 18-24: 0, 35-44: 0, 55-64: 0, <18: 0, >=65: 0, unknown: 0\n",
      "edu_level - Wyższe: 8, Średnie: 3, Podstawowe: 0\n",
      "fav_animals - Inne: 8, Koty: 3, Brak ulubionych: 0, Koty i Psy: 0, Psy: 0\n",
      "fav_place - W lesie: 6, Inne: 3, Nad wodą: 2, W górach: 0\n",
      "gender - Mężczyzna: 10, Kobieta: 1\n",
      "\n",
      "\n",
      "Klaster Cluster 5:\n",
      "age - 45-54: 14, 25-34: 2, unknown: 1, 18-24: 0, 35-44: 0, 55-64: 0, <18: 0, >=65: 0\n",
      "edu_level - Wyższe: 15, Średnie: 2, Podstawowe: 0\n",
      "fav_animals - Psy: 15, Koty i Psy: 2, Brak ulubionych: 0, Inne: 0, Koty: 0\n",
      "fav_place - Nad wodą: 12, Inne: 2, W górach: 0, W lesie: 0\n",
      "gender - Kobieta: 9, Mężczyzna: 8\n",
      "\n",
      "Wygeneruj najlepsze nazwy dla każdego z klasterów oraz ich opisy\n",
      "\n",
      "Użyj formatu JSON. Przykładowo:\n",
      "{\n",
      "    \"Cluster 0\": {\n",
      "        \"name\": \"Klaster 0\",\n",
      "        \"description\": \"W tym klastrze znajdują się osoby, które...\"\n",
      "    },\n",
      "    \"Cluster 1\": {\n",
      "        \"name\": \"Klaster 1\",\n",
      "        \"description\": \"W tym klastrze znajdują się osoby, które...\"\n",
      "    }\n",
      "}\n",
      "\n"
     ]
    }
   ],
   "source": [
    "prompt = \"Użyliśmy algorytmu klastrowania.\"\n",
    "for cluster_id, description in cluster_descriptions.items():\n",
    "    prompt += f\"\\n\\nKlaster {cluster_id}:\\n{description}\"\n",
    "\n",
    "prompt += \"\"\"\n",
    "Wygeneruj najlepsze nazwy dla każdego z klasterów oraz ich opisy\n",
    "\n",
    "Użyj formatu JSON. Przykładowo:\n",
    "{\n",
    "    \"Cluster 0\": {\n",
    "        \"name\": \"Klaster 0\",\n",
    "        \"description\": \"W tym klastrze znajdują się osoby, które...\"\n",
    "    },\n",
    "    \"Cluster 1\": {\n",
    "        \"name\": \"Klaster 1\",\n",
    "        \"description\": \"W tym klastrze znajdują się osoby, które...\"\n",
    "    }\n",
    "}\n",
    "\"\"\"\n",
    "print(prompt)"
   ]
  },
  {
   "cell_type": "code",
   "execution_count": 18,
   "metadata": {},
   "outputs": [],
   "source": [
    "response = openai_client.chat.completions.create(\n",
    "    model=\"gpt-4o\",\n",
    "    temperature=0,\n",
    "    messages=[\n",
    "        {\n",
    "            \"role\": \"user\",\n",
    "            \"content\": [{\"type\": \"text\", \"text\": prompt}],\n",
    "        }\n",
    "    ],\n",
    ")"
   ]
  },
  {
   "cell_type": "code",
   "execution_count": 22,
   "metadata": {},
   "outputs": [],
   "source": [
    "result = response.choices[0].message.content.replace(\"```json\", \"\").replace(\"```\", \"\").strip()\n",
    "cluster_names_and_descriptions = json.loads(result)"
   ]
  },
  {
   "cell_type": "code",
   "execution_count": 24,
   "metadata": {},
   "outputs": [],
   "source": [
    "with open(\"welcome_survey_cluster_names_and_descriptions_v1.json\", \"w\") as f:\n",
    "    f.write(json.dumps(cluster_names_and_descriptions))"
   ]
  },
  {
   "cell_type": "code",
   "execution_count": 11,
   "metadata": {},
   "outputs": [
    {
     "name": "stdout",
     "output_type": "stream",
     "text": [
      "{'Cluster 0': {'name': 'Miłośnicy Lasów i Psów', 'description': 'W tym klastrze znajdują się osoby, które preferują spędzanie czasu w lesie i mają wyższe wykształcenie. Większość z nich to mężczyźni w wieku 45-54 lat, a ich ulubionymi zwierzętami są psy.'}, 'Cluster 1': {'name': 'Profesjonaliści Nad Wodą', 'description': 'W tym klastrze znajdują się osoby z wyższym wykształceniem, które preferują spędzanie czasu nad wodą. Większość z nich to mężczyźni w wieku 35-44 lat, a ich ulubionymi zwierzętami są psy.'}, 'Cluster 2': {'name': 'Młodzi Miłośnicy Gór', 'description': 'W tym klastrze znajdują się młodsze osoby z wykształceniem średnim, które preferują spędzanie czasu w górach. Większość z nich to mężczyźni w wieku 25-34 lat, a ich ulubionymi zwierzętami są psy.'}, 'Cluster 3': {'name': 'Wykształceni Miłośnicy Gór', 'description': 'W tym klastrze znajdują się osoby z wyższym wykształceniem, które preferują spędzanie czasu w górach. Większość z nich to mężczyźni w wieku 35-44 lat, a ich ulubionymi zwierzętami są koty.'}, 'Cluster 4': {'name': 'Miłośnicy Gór i Różnorodnych Zwierząt', 'description': 'W tym klastrze znajdują się osoby z wyższym wykształceniem, które preferują spędzanie czasu w górach. Większość z nich to mężczyźni w wieku 25-34 lat, a ich ulubionymi zwierzętami są psy i koty.'}, 'Cluster 5': {'name': 'Kobiety Nad Wodą', 'description': 'W tym klastrze znajdują się osoby z wyższym wykształceniem, które preferują spędzanie czasu nad wodą. Większość z nich to kobiety w wieku 45-54 lat, a ich ulubionymi zwierzętami są psy.'}, 'Cluster 6': {'name': 'Miłośnicy Lasów i Różnorodnych Zwierząt', 'description': 'W tym klastrze znajdują się osoby z wyższym wykształceniem, które preferują spędzanie czasu w lesie. Większość z nich to mężczyźni w wieku 45-54 lat, a ich ulubionymi zwierzętami są różne zwierzęta.'}, 'Cluster 7': {'name': 'Wykształceni Miłośnicy Wody i Kotów', 'description': 'W tym klastrze znajdują się osoby z wyższym wykształceniem, które preferują spędzanie czasu nad wodą. Większość z nich to mężczyźni w wieku 35-44 lat, a ich ulubionymi zwierzętami są koty.'}}\n"
     ]
    }
   ],
   "source": [
    "with open(\"welcome_survey_cluster_names_and_descriptions_v1.json\", \"r\") as f:\n",
    "    print(json.loads(f.read()))"
   ]
  }
 ],
 "metadata": {
  "kernelspec": {
   "display_name": "Python 3 (ipykernel)",
   "language": "python",
   "name": "python3"
  },
  "language_info": {
   "codemirror_mode": {
    "name": "ipython",
    "version": 3
   },
   "file_extension": ".py",
   "mimetype": "text/x-python",
   "name": "python",
   "nbconvert_exporter": "python",
   "pygments_lexer": "ipython3",
   "version": "3.11.9"
  }
 },
 "nbformat": 4,
 "nbformat_minor": 4
}
